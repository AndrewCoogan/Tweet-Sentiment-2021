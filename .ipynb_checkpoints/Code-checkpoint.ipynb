{
 "cells": [
  {
   "cell_type": "code",
   "execution_count": 66,
   "metadata": {},
   "outputs": [],
   "source": [
    "#%config Completer.use_jedi = False\n",
    "# Jupyter notebook autocomplete was not working.\n",
    "\n",
    "import pandas as pd\n",
    "import numpy as np\n",
    "    \n",
    "import re\n",
    "import string\n",
    "import nltk\n",
    "from nltk.corpus import stopwords\n",
    "\n",
    "import spacy"
   ]
  },
  {
   "cell_type": "code",
   "execution_count": 3,
   "metadata": {},
   "outputs": [
    {
     "data": {
      "text/html": [
       "<div>\n",
       "<style scoped>\n",
       "    .dataframe tbody tr th:only-of-type {\n",
       "        vertical-align: middle;\n",
       "    }\n",
       "\n",
       "    .dataframe tbody tr th {\n",
       "        vertical-align: top;\n",
       "    }\n",
       "\n",
       "    .dataframe thead th {\n",
       "        text-align: right;\n",
       "    }\n",
       "</style>\n",
       "<table border=\"1\" class=\"dataframe\">\n",
       "  <thead>\n",
       "    <tr style=\"text-align: right;\">\n",
       "      <th></th>\n",
       "      <th>Id</th>\n",
       "      <th>Entity</th>\n",
       "      <th>Sentiment</th>\n",
       "      <th>Content</th>\n",
       "    </tr>\n",
       "  </thead>\n",
       "  <tbody>\n",
       "    <tr>\n",
       "      <td>0</td>\n",
       "      <td>2401</td>\n",
       "      <td>Borderlands</td>\n",
       "      <td>Positive</td>\n",
       "      <td>im getting on borderlands and i will murder yo...</td>\n",
       "    </tr>\n",
       "    <tr>\n",
       "      <td>1</td>\n",
       "      <td>2401</td>\n",
       "      <td>Borderlands</td>\n",
       "      <td>Positive</td>\n",
       "      <td>I am coming to the borders and I will kill you...</td>\n",
       "    </tr>\n",
       "    <tr>\n",
       "      <td>2</td>\n",
       "      <td>2401</td>\n",
       "      <td>Borderlands</td>\n",
       "      <td>Positive</td>\n",
       "      <td>im getting on borderlands and i will kill you ...</td>\n",
       "    </tr>\n",
       "    <tr>\n",
       "      <td>3</td>\n",
       "      <td>2401</td>\n",
       "      <td>Borderlands</td>\n",
       "      <td>Positive</td>\n",
       "      <td>im coming on borderlands and i will murder you...</td>\n",
       "    </tr>\n",
       "    <tr>\n",
       "      <td>4</td>\n",
       "      <td>2401</td>\n",
       "      <td>Borderlands</td>\n",
       "      <td>Positive</td>\n",
       "      <td>im getting on borderlands 2 and i will murder ...</td>\n",
       "    </tr>\n",
       "  </tbody>\n",
       "</table>\n",
       "</div>"
      ],
      "text/plain": [
       "     Id       Entity Sentiment  \\\n",
       "0  2401  Borderlands  Positive   \n",
       "1  2401  Borderlands  Positive   \n",
       "2  2401  Borderlands  Positive   \n",
       "3  2401  Borderlands  Positive   \n",
       "4  2401  Borderlands  Positive   \n",
       "\n",
       "                                             Content  \n",
       "0  im getting on borderlands and i will murder yo...  \n",
       "1  I am coming to the borders and I will kill you...  \n",
       "2  im getting on borderlands and i will kill you ...  \n",
       "3  im coming on borderlands and i will murder you...  \n",
       "4  im getting on borderlands 2 and i will murder ...  "
      ]
     },
     "execution_count": 3,
     "metadata": {},
     "output_type": "execute_result"
    }
   ],
   "source": [
    "train = pd.read_csv('Data/twitter_training.csv', header = None)\n",
    "train.columns = ['Id', 'Entity', 'Sentiment', 'Content']\n",
    "train.head()"
   ]
  },
  {
   "cell_type": "code",
   "execution_count": 4,
   "metadata": {},
   "outputs": [
    {
     "data": {
      "text/html": [
       "<div>\n",
       "<style scoped>\n",
       "    .dataframe tbody tr th:only-of-type {\n",
       "        vertical-align: middle;\n",
       "    }\n",
       "\n",
       "    .dataframe tbody tr th {\n",
       "        vertical-align: top;\n",
       "    }\n",
       "\n",
       "    .dataframe thead th {\n",
       "        text-align: right;\n",
       "    }\n",
       "</style>\n",
       "<table border=\"1\" class=\"dataframe\">\n",
       "  <thead>\n",
       "    <tr style=\"text-align: right;\">\n",
       "      <th></th>\n",
       "      <th>Id</th>\n",
       "      <th>Entity</th>\n",
       "      <th>Sentiment</th>\n",
       "      <th>Content</th>\n",
       "    </tr>\n",
       "  </thead>\n",
       "  <tbody>\n",
       "    <tr>\n",
       "      <td>0</td>\n",
       "      <td>3364</td>\n",
       "      <td>Facebook</td>\n",
       "      <td>Irrelevant</td>\n",
       "      <td>I mentioned on Facebook that I was struggling ...</td>\n",
       "    </tr>\n",
       "    <tr>\n",
       "      <td>1</td>\n",
       "      <td>352</td>\n",
       "      <td>Amazon</td>\n",
       "      <td>Neutral</td>\n",
       "      <td>BBC News - Amazon boss Jeff Bezos rejects clai...</td>\n",
       "    </tr>\n",
       "    <tr>\n",
       "      <td>2</td>\n",
       "      <td>8312</td>\n",
       "      <td>Microsoft</td>\n",
       "      <td>Negative</td>\n",
       "      <td>@Microsoft Why do I pay for WORD when it funct...</td>\n",
       "    </tr>\n",
       "    <tr>\n",
       "      <td>3</td>\n",
       "      <td>4371</td>\n",
       "      <td>CS-GO</td>\n",
       "      <td>Negative</td>\n",
       "      <td>CSGO matchmaking is so full of closet hacking,...</td>\n",
       "    </tr>\n",
       "    <tr>\n",
       "      <td>4</td>\n",
       "      <td>4433</td>\n",
       "      <td>Google</td>\n",
       "      <td>Neutral</td>\n",
       "      <td>Now the President is slapping Americans in the...</td>\n",
       "    </tr>\n",
       "  </tbody>\n",
       "</table>\n",
       "</div>"
      ],
      "text/plain": [
       "     Id     Entity   Sentiment  \\\n",
       "0  3364   Facebook  Irrelevant   \n",
       "1   352     Amazon     Neutral   \n",
       "2  8312  Microsoft    Negative   \n",
       "3  4371      CS-GO    Negative   \n",
       "4  4433     Google     Neutral   \n",
       "\n",
       "                                             Content  \n",
       "0  I mentioned on Facebook that I was struggling ...  \n",
       "1  BBC News - Amazon boss Jeff Bezos rejects clai...  \n",
       "2  @Microsoft Why do I pay for WORD when it funct...  \n",
       "3  CSGO matchmaking is so full of closet hacking,...  \n",
       "4  Now the President is slapping Americans in the...  "
      ]
     },
     "execution_count": 4,
     "metadata": {},
     "output_type": "execute_result"
    }
   ],
   "source": [
    "validate = pd.read_csv('Data/twitter_validation.csv', header = None)\n",
    "validate.columns = ['Id', 'Entity', 'Sentiment', 'Content']\n",
    "validate.head()"
   ]
  },
  {
   "cell_type": "code",
   "execution_count": 5,
   "metadata": {},
   "outputs": [
    {
     "data": {
      "text/plain": [
       "Negative      22542\n",
       "Positive      20832\n",
       "Neutral       18318\n",
       "Irrelevant    12990\n",
       "Name: Sentiment, dtype: int64"
      ]
     },
     "execution_count": 5,
     "metadata": {},
     "output_type": "execute_result"
    }
   ],
   "source": [
    "train.Sentiment.value_counts()"
   ]
  },
  {
   "cell_type": "code",
   "execution_count": 6,
   "metadata": {},
   "outputs": [
    {
     "data": {
      "text/plain": [
       "Negative      0.301840\n",
       "Positive      0.278943\n",
       "Neutral       0.245280\n",
       "Irrelevant    0.173937\n",
       "Name: Sentiment, dtype: float64"
      ]
     },
     "execution_count": 6,
     "metadata": {},
     "output_type": "execute_result"
    }
   ],
   "source": [
    "train.Sentiment.value_counts(normalize = True)"
   ]
  },
  {
   "cell_type": "code",
   "execution_count": 27,
   "metadata": {},
   "outputs": [
    {
     "data": {
      "text/plain": [
       "Microsoft                            2400\n",
       "TomClancysRainbowSix                 2400\n",
       "MaddenNFL                            2400\n",
       "CallOfDuty                           2394\n",
       "LeagueOfLegends                      2394\n",
       "Verizon                              2382\n",
       "ApexLegends                          2376\n",
       "CallOfDutyBlackopsColdWar            2376\n",
       "Facebook                             2370\n",
       "WorldOfCraft                         2364\n",
       "Dota2                                2364\n",
       "NBA2K                                2352\n",
       "TomClancysGhostRecon                 2346\n",
       "Battlefield                          2346\n",
       "FIFA                                 2340\n",
       "Xbox(Xseries)                        2334\n",
       "Overwatch                            2334\n",
       "johnson&johnson                      2328\n",
       "Amazon                               2316\n",
       "HomeDepot                            2310\n",
       "PlayStation5(PS5)                    2310\n",
       "CS-GO                                2304\n",
       "GrandTheftAuto(GTA)                  2304\n",
       "Cyberpunk2077                        2304\n",
       "Google                               2298\n",
       "Nvidia                               2298\n",
       "Hearthstone                          2298\n",
       "Borderlands                          2286\n",
       "PlayerUnknownsBattlegrounds(PUBG)    2274\n",
       "Fortnite                             2274\n",
       "RedDeadRedemption(RDR)               2262\n",
       "AssassinsCreed                       2244\n",
       "Name: Entity, dtype: int64"
      ]
     },
     "execution_count": 27,
     "metadata": {},
     "output_type": "execute_result"
    }
   ],
   "source": [
    "train.Entity.value_counts()"
   ]
  },
  {
   "cell_type": "code",
   "execution_count": 8,
   "metadata": {},
   "outputs": [
    {
     "name": "stdout",
     "output_type": "stream",
     "text": [
      "Diff of training and validate: []\n",
      "Diff of validate and training: []\n"
     ]
    }
   ],
   "source": [
    "# Should we create new models for each Entity?\n",
    "# Lets see if there are any entities in the train and/or test that are not in the other set.\n",
    "entity_values = list(set(train.Entity.values.tolist()))\n",
    "validation_values = list(set(validate.Entity.values.tolist()))\n",
    "\n",
    "def diff_of_two_lists(list1 : list, list2 : list) -> list:\n",
    "    return list(set(list1) - set(list2))\n",
    "\n",
    "in_train_not_validate = diff_of_two_lists(entity_values, validation_values)\n",
    "in_validate_not_train = diff_of_two_lists(validation_values, entity_values)\n",
    "\n",
    "print(f'Diff of training and validate: {in_train_not_validate}')\n",
    "print(f'Diff of validate and training: {in_validate_not_train}')"
   ]
  },
  {
   "cell_type": "markdown",
   "metadata": {},
   "source": [
    "# Define Broad Functions"
   ]
  },
  {
   "cell_type": "code",
   "execution_count": 55,
   "metadata": {},
   "outputs": [],
   "source": [
    "def remove_special_chars(text : str) -> str:\n",
    "    '''This will remove special characters from a string'''\n",
    "    return re.sub('[^A-Za-z0-9]+', '', text)\n",
    "\n",
    "def clean_text(text : str) -> str:\n",
    "    '''Make text lowercase, remove text in square brackets,remove links,remove punctuation\n",
    "    and remove words containing numbers.'''\n",
    "    text = text.lower() # make everythng lowercase\n",
    "    text = re.sub('\\[.*?\\]', '', text) # remove text in squre brackets\n",
    "    text = re.sub('https?://\\S+|www\\.\\S+', '', text) # remove website links\n",
    "    text = re.sub('<.*?>+', '', text) # remove anything within <...>\n",
    "    text = re.sub('[%s]' % re.escape(string.punctuation), '', text) # remove punctuation\n",
    "    text = re.sub('\\n', '', text) # remove new line \n",
    "    text = re.sub('\\w*\\d\\w*', '', text) # remove words containing numbers\n",
    "    \n",
    "    return text\n",
    "\n",
    "def text_preprocessing(text : str, remove_duplicate : bool = False, remove_stop_words : bool = False) -> str:\n",
    "    '''This takes a string, implements clean_text, and tokenizes the workds into a list.\n",
    "    This can also remove duplicated words, but also remove stop words.'''    \n",
    "    tokenizer = nltk.tokenize.RegexpTokenizer(r'\\w+')\n",
    "    nopunc = clean_text(text)\n",
    "    tokenized_text = tokenizer.tokenize(nopunc)\n",
    "    \n",
    "    # If remove_duplicates is used, order is lost\n",
    "    if remove_duplicate: \n",
    "        tokenized_text = list(set(tokenized_text))\n",
    "    \n",
    "    ### Where (if at all) should we remove the stop words, i.e., before we clean the text?  Dont and don't are diff.\n",
    "    if remove_stop_words:\n",
    "        tokenized_text = [w for w in tokenized_text if w not in stopwords.words('english')]\n",
    "    \n",
    "    combined_text = ' '.join(tokenized_text)\n",
    "    \n",
    "    return combined_text"
   ]
  },
  {
   "cell_type": "markdown",
   "metadata": {},
   "source": [
    "# Define Slightly More Specific Functions"
   ]
  },
  {
   "cell_type": "code",
   "execution_count": 64,
   "metadata": {},
   "outputs": [],
   "source": [
    "def process_tweets(data : pd.DataFrame) -> pd.DataFrame:\n",
    "    data['Content_Clean'] = data['Content'].apply(str).apply(lambda x : text_preprocessing(x))\n",
    "    data['Entity_Clean'] = data['Entity'].apply(str).apply(lambda x : text_preprocessing(x))\n",
    "    data['Sentiment'] = data['Sentiment'].apply(str).apply(lambda x : x.upper())\n",
    "    return data"
   ]
  },
  {
   "cell_type": "markdown",
   "metadata": {},
   "source": [
    "# High Level Analysis"
   ]
  },
  {
   "cell_type": "code",
   "execution_count": 26,
   "metadata": {
    "scrolled": false
   },
   "outputs": [
    {
     "data": {
      "text/html": [
       "<div>\n",
       "<style scoped>\n",
       "    .dataframe tbody tr th:only-of-type {\n",
       "        vertical-align: middle;\n",
       "    }\n",
       "\n",
       "    .dataframe tbody tr th {\n",
       "        vertical-align: top;\n",
       "    }\n",
       "\n",
       "    .dataframe thead th {\n",
       "        text-align: right;\n",
       "    }\n",
       "</style>\n",
       "<table border=\"1\" class=\"dataframe\">\n",
       "  <thead>\n",
       "    <tr style=\"text-align: right;\">\n",
       "      <th></th>\n",
       "      <th>Positive</th>\n",
       "      <th>Negative</th>\n",
       "      <th>Neutral</th>\n",
       "      <th>Irrelevant</th>\n",
       "    </tr>\n",
       "  </thead>\n",
       "  <tbody>\n",
       "    <tr>\n",
       "      <td>Amazon</td>\n",
       "      <td>0.135325</td>\n",
       "      <td>0.252636</td>\n",
       "      <td>0.530316</td>\n",
       "      <td>0.081722</td>\n",
       "    </tr>\n",
       "    <tr>\n",
       "      <td>ApexLegends</td>\n",
       "      <td>0.269443</td>\n",
       "      <td>0.251169</td>\n",
       "      <td>0.397790</td>\n",
       "      <td>0.081598</td>\n",
       "    </tr>\n",
       "    <tr>\n",
       "      <td>AssassinsCreed</td>\n",
       "      <td>0.644136</td>\n",
       "      <td>0.167860</td>\n",
       "      <td>0.069830</td>\n",
       "      <td>0.118174</td>\n",
       "    </tr>\n",
       "    <tr>\n",
       "      <td>Battlefield</td>\n",
       "      <td>0.253022</td>\n",
       "      <td>0.200345</td>\n",
       "      <td>0.151554</td>\n",
       "      <td>0.395078</td>\n",
       "    </tr>\n",
       "    <tr>\n",
       "      <td>Borderlands</td>\n",
       "      <td>0.446053</td>\n",
       "      <td>0.186842</td>\n",
       "      <td>0.261842</td>\n",
       "      <td>0.105263</td>\n",
       "    </tr>\n",
       "  </tbody>\n",
       "</table>\n",
       "</div>"
      ],
      "text/plain": [
       "                Positive  Negative   Neutral  Irrelevant\n",
       "Amazon          0.135325  0.252636  0.530316    0.081722\n",
       "ApexLegends     0.269443  0.251169  0.397790    0.081598\n",
       "AssassinsCreed  0.644136  0.167860  0.069830    0.118174\n",
       "Battlefield     0.253022  0.200345  0.151554    0.395078\n",
       "Borderlands     0.446053  0.186842  0.261842    0.105263"
      ]
     },
     "execution_count": 26,
     "metadata": {},
     "output_type": "execute_result"
    }
   ],
   "source": [
    "train_count = train.\\\n",
    "    groupby(['Entity', 'Sentiment']).count()['Content'].reset_index().\\\n",
    "    sort_values(by = ['Entity', 'Sentiment'], ascending = True)\n",
    "\n",
    "train_count_df = pd.DataFrame(columns = ['Positive', 'Negative', 'Neutral', 'Irrelevant'])\n",
    "\n",
    "for _, row in train_count.iterrows():\n",
    "    train_count_df.loc[row.Entity, row.Sentiment] = row.Content\n",
    "\n",
    "train_count_pct_df = train_count_df.div(train_count_df.sum(axis = 1), axis = 0)\n",
    "\n",
    "train_count_pct_df.head()"
   ]
  },
  {
   "cell_type": "code",
   "execution_count": 25,
   "metadata": {},
   "outputs": [
    {
     "data": {
      "text/html": [
       "<div>\n",
       "<style scoped>\n",
       "    .dataframe tbody tr th:only-of-type {\n",
       "        vertical-align: middle;\n",
       "    }\n",
       "\n",
       "    .dataframe tbody tr th {\n",
       "        vertical-align: top;\n",
       "    }\n",
       "\n",
       "    .dataframe thead th {\n",
       "        text-align: right;\n",
       "    }\n",
       "</style>\n",
       "<table border=\"1\" class=\"dataframe\">\n",
       "  <thead>\n",
       "    <tr style=\"text-align: right;\">\n",
       "      <th></th>\n",
       "      <th>Positive</th>\n",
       "      <th>Negative</th>\n",
       "      <th>Neutral</th>\n",
       "      <th>Irrelevant</th>\n",
       "    </tr>\n",
       "  </thead>\n",
       "  <tbody>\n",
       "    <tr>\n",
       "      <td>AssassinsCreed</td>\n",
       "      <td>0.644136</td>\n",
       "      <td>0.167860</td>\n",
       "      <td>0.069830</td>\n",
       "      <td>0.118174</td>\n",
       "    </tr>\n",
       "    <tr>\n",
       "      <td>MaddenNFL</td>\n",
       "      <td>0.166597</td>\n",
       "      <td>0.712663</td>\n",
       "      <td>0.082878</td>\n",
       "      <td>0.037863</td>\n",
       "    </tr>\n",
       "    <tr>\n",
       "      <td>Amazon</td>\n",
       "      <td>0.135325</td>\n",
       "      <td>0.252636</td>\n",
       "      <td>0.530316</td>\n",
       "      <td>0.081722</td>\n",
       "    </tr>\n",
       "    <tr>\n",
       "      <td>PlayerUnknownsBattlegrounds(PUBG)</td>\n",
       "      <td>0.178156</td>\n",
       "      <td>0.303491</td>\n",
       "      <td>0.117726</td>\n",
       "      <td>0.400627</td>\n",
       "    </tr>\n",
       "  </tbody>\n",
       "</table>\n",
       "</div>"
      ],
      "text/plain": [
       "                                   Positive  Negative   Neutral  Irrelevant\n",
       "AssassinsCreed                     0.644136  0.167860  0.069830    0.118174\n",
       "MaddenNFL                          0.166597  0.712663  0.082878    0.037863\n",
       "Amazon                             0.135325  0.252636  0.530316    0.081722\n",
       "PlayerUnknownsBattlegrounds(PUBG)  0.178156  0.303491  0.117726    0.400627"
      ]
     },
     "execution_count": 25,
     "metadata": {},
     "output_type": "execute_result"
    }
   ],
   "source": [
    "train_count_pct_df.loc[train_count_pct_df.idxmax().values, ]"
   ]
  },
  {
   "cell_type": "code",
   "execution_count": 45,
   "metadata": {},
   "outputs": [
    {
     "name": "stdout",
     "output_type": "stream",
     "text": [
      "Sentiment Positive has a mean of 0.280 with a standard deviation of 0.113\n",
      "Sentiment Negative has a mean of 0.301 with a standard deviation of 0.135\n",
      "Sentiment Neutral has a mean of 0.244 with a standard deviation of 0.125\n",
      "Sentiment Irrelevant has a mean of 0.175 with a standard deviation of 0.113\n"
     ]
    }
   ],
   "source": [
    "train_avg = train_count_pct_df.apply(np.mean, axis = 0)\n",
    "train_std = train_count_pct_df.apply(np.std, axis = 0)\n",
    "\n",
    "for idx, value in train_avg.iteritems():\n",
    "    print(f'Sentiment {idx} has a mean of {value:.3f} with a standard deviation of {train_std[idx]:.3f}')"
   ]
  },
  {
   "cell_type": "markdown",
   "metadata": {},
   "source": [
    "At this point, we know that each Entity has approximately the same number of samples (2400), but the distribution between Positive, Negative, Neutral, and Irrelevant can be very different.  I suspect that we will need multiple models for each Entity, but I am going to try a few things.\n",
    "\n",
    "I am going to start with simple, one model for all of them.  I am going to try and think of a way to use the Entity as an additionl parameter, but will probably end up moving to a model for each entity, which seems inefficient, so additional considerations might be needed."
   ]
  },
  {
   "cell_type": "markdown",
   "metadata": {},
   "source": [
    "# Cleaning and Preprocessing\n",
    "\n",
    "Here we are going to simply apply the text cleaning logic that we established above.  We obviously need to do this for the Content text itself, but I also want to do it for the Entity.  Eventually, I expect that we will need to create separate models for each entity and want the model names to be simple and consistent."
   ]
  },
  {
   "cell_type": "code",
   "execution_count": 65,
   "metadata": {},
   "outputs": [
    {
     "data": {
      "text/html": [
       "<div>\n",
       "<style scoped>\n",
       "    .dataframe tbody tr th:only-of-type {\n",
       "        vertical-align: middle;\n",
       "    }\n",
       "\n",
       "    .dataframe tbody tr th {\n",
       "        vertical-align: top;\n",
       "    }\n",
       "\n",
       "    .dataframe thead th {\n",
       "        text-align: right;\n",
       "    }\n",
       "</style>\n",
       "<table border=\"1\" class=\"dataframe\">\n",
       "  <thead>\n",
       "    <tr style=\"text-align: right;\">\n",
       "      <th></th>\n",
       "      <th>Id</th>\n",
       "      <th>Entity</th>\n",
       "      <th>Sentiment</th>\n",
       "      <th>Content</th>\n",
       "      <th>Content_Clean</th>\n",
       "      <th>Entity_Clean</th>\n",
       "    </tr>\n",
       "  </thead>\n",
       "  <tbody>\n",
       "    <tr>\n",
       "      <td>0</td>\n",
       "      <td>2401</td>\n",
       "      <td>Borderlands</td>\n",
       "      <td>POSITIVE</td>\n",
       "      <td>im getting on borderlands and i will murder yo...</td>\n",
       "      <td>im getting on borderlands and i will murder yo...</td>\n",
       "      <td>borderlands</td>\n",
       "    </tr>\n",
       "    <tr>\n",
       "      <td>1</td>\n",
       "      <td>2401</td>\n",
       "      <td>Borderlands</td>\n",
       "      <td>POSITIVE</td>\n",
       "      <td>I am coming to the borders and I will kill you...</td>\n",
       "      <td>i am coming to the borders and i will kill you...</td>\n",
       "      <td>borderlands</td>\n",
       "    </tr>\n",
       "    <tr>\n",
       "      <td>2</td>\n",
       "      <td>2401</td>\n",
       "      <td>Borderlands</td>\n",
       "      <td>POSITIVE</td>\n",
       "      <td>im getting on borderlands and i will kill you ...</td>\n",
       "      <td>im getting on borderlands and i will kill you all</td>\n",
       "      <td>borderlands</td>\n",
       "    </tr>\n",
       "    <tr>\n",
       "      <td>3</td>\n",
       "      <td>2401</td>\n",
       "      <td>Borderlands</td>\n",
       "      <td>POSITIVE</td>\n",
       "      <td>im coming on borderlands and i will murder you...</td>\n",
       "      <td>im coming on borderlands and i will murder you...</td>\n",
       "      <td>borderlands</td>\n",
       "    </tr>\n",
       "    <tr>\n",
       "      <td>4</td>\n",
       "      <td>2401</td>\n",
       "      <td>Borderlands</td>\n",
       "      <td>POSITIVE</td>\n",
       "      <td>im getting on borderlands 2 and i will murder ...</td>\n",
       "      <td>im getting on borderlands and i will murder yo...</td>\n",
       "      <td>borderlands</td>\n",
       "    </tr>\n",
       "  </tbody>\n",
       "</table>\n",
       "</div>"
      ],
      "text/plain": [
       "     Id       Entity Sentiment  \\\n",
       "0  2401  Borderlands  POSITIVE   \n",
       "1  2401  Borderlands  POSITIVE   \n",
       "2  2401  Borderlands  POSITIVE   \n",
       "3  2401  Borderlands  POSITIVE   \n",
       "4  2401  Borderlands  POSITIVE   \n",
       "\n",
       "                                             Content  \\\n",
       "0  im getting on borderlands and i will murder yo...   \n",
       "1  I am coming to the borders and I will kill you...   \n",
       "2  im getting on borderlands and i will kill you ...   \n",
       "3  im coming on borderlands and i will murder you...   \n",
       "4  im getting on borderlands 2 and i will murder ...   \n",
       "\n",
       "                                       Content_Clean Entity_Clean  \n",
       "0  im getting on borderlands and i will murder yo...  borderlands  \n",
       "1  i am coming to the borders and i will kill you...  borderlands  \n",
       "2  im getting on borderlands and i will kill you all  borderlands  \n",
       "3  im coming on borderlands and i will murder you...  borderlands  \n",
       "4  im getting on borderlands and i will murder yo...  borderlands  "
      ]
     },
     "execution_count": 65,
     "metadata": {},
     "output_type": "execute_result"
    }
   ],
   "source": [
    "train_clean = process_tweets(train)\n",
    "\n",
    "train_clean.head()"
   ]
  },
  {
   "cell_type": "markdown",
   "metadata": {},
   "source": [
    "# Very Basic, Singular Model"
   ]
  },
  {
   "cell_type": "markdown",
   "metadata": {},
   "source": [
    "This actually became a bit more complicated than expected.  Typically in sentiment analysis, we can do a model that has zero for negative and one for positive.  The range between them can be seen as the \"confidence\" in the model for that specific input.  In this case, however, we have FOUR possibilities, so we need to have something a bit different -- custom text classifications.\n",
    "\n",
    "https://www.machinelearningplus.com/nlp/custom-text-classification-spacy/"
   ]
  },
  {
   "cell_type": "code",
   "execution_count": 77,
   "metadata": {},
   "outputs": [
    {
     "data": {
      "text/plain": [
       "['tagger', 'parser', 'ner', 'textcat']"
      ]
     },
     "execution_count": 77,
     "metadata": {},
     "output_type": "execute_result"
    }
   ],
   "source": [
    "nlp = spacy.load('en_core_web_sm')\n",
    "textcat = nlp.create_pipe(\"textcat\", config = {\"exclusive_classes\" : True, \"architecture\" : \"simple_cnn\"})\n",
    "nlp.add_pipe(textcat, last = True)\n",
    "\n",
    "nlp.pipe_names"
   ]
  },
  {
   "cell_type": "code",
   "execution_count": 79,
   "metadata": {},
   "outputs": [
    {
     "data": {
      "text/plain": [
       "('POSITIVE', 'NEUTRAL', 'NEGATIVE', 'IRRELEVANT')"
      ]
     },
     "execution_count": 79,
     "metadata": {},
     "output_type": "execute_result"
    }
   ],
   "source": [
    "sentiments = train_clean.Sentiment.unique().tolist()\n",
    "\n",
    "for sentiment in sentiments:\n",
    "    textcat.add_label(sentiment)\n",
    "    \n",
    "textcat.labels"
   ]
  },
  {
   "cell_type": "code",
   "execution_count": 95,
   "metadata": {},
   "outputs": [
    {
     "data": {
      "text/html": [
       "<div>\n",
       "<style scoped>\n",
       "    .dataframe tbody tr th:only-of-type {\n",
       "        vertical-align: middle;\n",
       "    }\n",
       "\n",
       "    .dataframe tbody tr th {\n",
       "        vertical-align: top;\n",
       "    }\n",
       "\n",
       "    .dataframe thead th {\n",
       "        text-align: right;\n",
       "    }\n",
       "</style>\n",
       "<table border=\"1\" class=\"dataframe\">\n",
       "  <thead>\n",
       "    <tr style=\"text-align: right;\">\n",
       "      <th></th>\n",
       "      <th>Id</th>\n",
       "      <th>Entity</th>\n",
       "      <th>Sentiment</th>\n",
       "      <th>Content</th>\n",
       "      <th>Content_Clean</th>\n",
       "      <th>Entity_Clean</th>\n",
       "      <th>Sentiment_Num</th>\n",
       "    </tr>\n",
       "  </thead>\n",
       "  <tbody>\n",
       "    <tr>\n",
       "      <td>0</td>\n",
       "      <td>2401</td>\n",
       "      <td>Borderlands</td>\n",
       "      <td>POSITIVE</td>\n",
       "      <td>im getting on borderlands and i will murder yo...</td>\n",
       "      <td>im getting on borderlands and i will murder yo...</td>\n",
       "      <td>borderlands</td>\n",
       "      <td>0</td>\n",
       "    </tr>\n",
       "    <tr>\n",
       "      <td>1</td>\n",
       "      <td>2401</td>\n",
       "      <td>Borderlands</td>\n",
       "      <td>POSITIVE</td>\n",
       "      <td>I am coming to the borders and I will kill you...</td>\n",
       "      <td>i am coming to the borders and i will kill you...</td>\n",
       "      <td>borderlands</td>\n",
       "      <td>0</td>\n",
       "    </tr>\n",
       "    <tr>\n",
       "      <td>2</td>\n",
       "      <td>2401</td>\n",
       "      <td>Borderlands</td>\n",
       "      <td>POSITIVE</td>\n",
       "      <td>im getting on borderlands and i will kill you ...</td>\n",
       "      <td>im getting on borderlands and i will kill you all</td>\n",
       "      <td>borderlands</td>\n",
       "      <td>0</td>\n",
       "    </tr>\n",
       "    <tr>\n",
       "      <td>3</td>\n",
       "      <td>2401</td>\n",
       "      <td>Borderlands</td>\n",
       "      <td>POSITIVE</td>\n",
       "      <td>im coming on borderlands and i will murder you...</td>\n",
       "      <td>im coming on borderlands and i will murder you...</td>\n",
       "      <td>borderlands</td>\n",
       "      <td>0</td>\n",
       "    </tr>\n",
       "    <tr>\n",
       "      <td>4</td>\n",
       "      <td>2401</td>\n",
       "      <td>Borderlands</td>\n",
       "      <td>POSITIVE</td>\n",
       "      <td>im getting on borderlands 2 and i will murder ...</td>\n",
       "      <td>im getting on borderlands and i will murder yo...</td>\n",
       "      <td>borderlands</td>\n",
       "      <td>0</td>\n",
       "    </tr>\n",
       "  </tbody>\n",
       "</table>\n",
       "</div>"
      ],
      "text/plain": [
       "     Id       Entity Sentiment  \\\n",
       "0  2401  Borderlands  POSITIVE   \n",
       "1  2401  Borderlands  POSITIVE   \n",
       "2  2401  Borderlands  POSITIVE   \n",
       "3  2401  Borderlands  POSITIVE   \n",
       "4  2401  Borderlands  POSITIVE   \n",
       "\n",
       "                                             Content  \\\n",
       "0  im getting on borderlands and i will murder yo...   \n",
       "1  I am coming to the borders and I will kill you...   \n",
       "2  im getting on borderlands and i will kill you ...   \n",
       "3  im coming on borderlands and i will murder you...   \n",
       "4  im getting on borderlands 2 and i will murder ...   \n",
       "\n",
       "                                       Content_Clean Entity_Clean  \\\n",
       "0  im getting on borderlands and i will murder yo...  borderlands   \n",
       "1  i am coming to the borders and i will kill you...  borderlands   \n",
       "2  im getting on borderlands and i will kill you all  borderlands   \n",
       "3  im coming on borderlands and i will murder you...  borderlands   \n",
       "4  im getting on borderlands and i will murder yo...  borderlands   \n",
       "\n",
       "   Sentiment_Num  \n",
       "0              0  \n",
       "1              0  \n",
       "2              0  \n",
       "3              0  \n",
       "4              0  "
      ]
     },
     "execution_count": 95,
     "metadata": {},
     "output_type": "execute_result"
    }
   ],
   "source": [
    "train_clean['Sentiment_Num'] = train_clean.Sentiment.apply(lambda x : sentiments.index(x))\n",
    "\n",
    "train_clean.head()"
   ]
  },
  {
   "cell_type": "code",
   "execution_count": 96,
   "metadata": {},
   "outputs": [
    {
     "data": {
      "text/plain": [
       "1.3707720735920301"
      ]
     },
     "execution_count": 96,
     "metadata": {},
     "output_type": "execute_result"
    }
   ],
   "source": []
  },
  {
   "cell_type": "code",
   "execution_count": null,
   "metadata": {},
   "outputs": [],
   "source": []
  }
 ],
 "metadata": {
  "kernelspec": {
   "display_name": "Python 3",
   "language": "python",
   "name": "python3"
  },
  "language_info": {
   "codemirror_mode": {
    "name": "ipython",
    "version": 3
   },
   "file_extension": ".py",
   "mimetype": "text/x-python",
   "name": "python",
   "nbconvert_exporter": "python",
   "pygments_lexer": "ipython3",
   "version": "3.7.4"
  }
 },
 "nbformat": 4,
 "nbformat_minor": 2
}
